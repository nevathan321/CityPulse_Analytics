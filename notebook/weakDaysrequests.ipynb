{
 "cells": [
  {
   "cell_type": "code",
   "execution_count": null,
   "id": "14c922f0",
   "metadata": {},
   "outputs": [
    {
     "ename": "_IncompleteInputError",
     "evalue": "incomplete input (1951493734.py, line 21)",
     "output_type": "error",
     "traceback": [
      "  \u001b[36mCell\u001b[39m\u001b[36m \u001b[39m\u001b[32mIn[2]\u001b[39m\u001b[32m, line 21\u001b[39m\n\u001b[31m    \u001b[39m\u001b[31mfor day, count in week_days.items():\u001b[39m\n                                        ^\n\u001b[31m_IncompleteInputError\u001b[39m\u001b[31m:\u001b[39m incomplete input\n"
     ]
    }
   ],
   "source": [
    "import pandas as pd\n",
    "import seaborn as sns\n",
    "from datetime import datetime\n",
    "\n",
    "df = pd.read_csv(r\"..\\data\\SR2025.csv\", encoding=\"latin1\", on_bad_lines='skip')\n",
    "\n",
    "week_days = {\"Sunday\":0, \"Monday\":0, \"Tuesday\":0, \"Wednesday\":0, \"Thursday\":0, \"Friday\":0, \"Saturday\":0}\n",
    "\n",
    "def get_day(creation_date):\n",
    "    date = creation_date.strip()[0:10]\n",
    "    date_obj = datetime.strptime(date, \"%Y-%m-%d\")\n",
    "    day_of_week = date_obj.strftime(\"%A\")\n",
    "    return day_of_week\n",
    "\n",
    "for date in df[\"Creation Date\"]:\n",
    "    day = get_day(date)\n",
    "    week_days[day] += 1\n",
    "\n",
    "\n",
    "with open(\"daysData.txt\", 'w') as f:\n",
    "    for day, count in week_days.items():\n",
    "        f.write(f\"{day} {count}\\n\")\n"
   ]
  }
 ],
 "metadata": {
  "kernelspec": {
   "display_name": "Python 3",
   "language": "python",
   "name": "python3"
  },
  "language_info": {
   "codemirror_mode": {
    "name": "ipython",
    "version": 3
   },
   "file_extension": ".py",
   "mimetype": "text/x-python",
   "name": "python",
   "nbconvert_exporter": "python",
   "pygments_lexer": "ipython3",
   "version": "3.13.3"
  }
 },
 "nbformat": 4,
 "nbformat_minor": 5
}
